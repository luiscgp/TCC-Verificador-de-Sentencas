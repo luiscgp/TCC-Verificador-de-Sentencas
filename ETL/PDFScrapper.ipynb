{
 "cells": [
  {
   "cell_type": "code",
   "execution_count": null,
   "metadata": {},
   "outputs": [],
   "source": [
    "from lxml import html\n",
    "from random import randint\n",
    "from time import sleep\n",
    "import requests\n",
    "import urllib\n",
    "import wget\n",
    "\n",
    "paperFile = urllib.request.URLopener()\n",
    "\n",
    "numPages = input(\"How many pages do you want to scrape? \")\n",
    "searchQuery = input(\"Search query (separated by +)? \")\n",
    "file = open(\"pdflinks.txt\", \"w\")\n",
    "paperCount = 0\n",
    "\n",
    "for x in range(0, int(numPages)):\n",
    "    sleep(randint(1,5))\n",
    "    print(\"PAGE NUM: \" + str(x))\n",
    "    page = requests.get('https://scholar.google.com.au/scholar?start=' + str(x * 10) + '&q=' + searchQuery)\n",
    "    tree = html.fromstring(page.content)\n",
    "    hrefs = tree.xpath('//div[@class=\"gs_or_ggsm\"]/a')\n",
    "\n",
    "    for href in hrefs:\n",
    "        print(href.attrib['href'])\n",
    "        file.write(href.attrib['href'] + \"\\n\")\n",
    "        try:\n",
    "            paperFile = wget.download(href.attrib['href'], \"paper\" + str(paperCount) + \".pdf\")\n",
    "            paperCount = paperCount + 1\n",
    "        except:\n",
    "            pass\n",
    "        \n",
    "\n",
    "file.close()\n",
    "print(\"Successfully gathered the links!\")"
   ]
  },
  {
   "cell_type": "code",
   "execution_count": null,
   "metadata": {},
   "outputs": [],
   "source": []
  }
 ],
 "metadata": {
  "kernelspec": {
   "display_name": "Python 3",
   "language": "python",
   "name": "python3"
  },
  "language_info": {
   "name": "python",
   "version": "3.11.4"
  },
  "orig_nbformat": 4
 },
 "nbformat": 4,
 "nbformat_minor": 2
}
